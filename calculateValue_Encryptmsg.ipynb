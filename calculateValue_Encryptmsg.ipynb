{
 "cells": [
  {
   "cell_type": "code",
   "execution_count": null,
   "metadata": {},
   "outputs": [],
   "source": [
    "# # Write a programme to find a factorial of any number\n",
    "# i= int (input(\"Enter range \"))\n",
    "# temp=1\n",
    "# for n in  range(i,1,-1):\n",
    "#     temp = temp* n\n",
    "# print(temp)\n",
    "i= int (input(\"Enter range \"))\n",
    "fact=temp=1\n",
    "while(temp<=i):\n",
    "    fact=fact*temp\n",
    "    temp+=1\n",
    "print(fact)"
   ]
  },
  {
   "cell_type": "code",
   "execution_count": null,
   "metadata": {},
   "outputs": [],
   "source": [
    "# Q1. Create a function which will take a list as an argument and return the product of all the numbers  \n",
    "# after creating a flat list. \n",
    "# Use the below-given list as an argument for your function. \n",
    "# list1 = [1,2,3,4, [44,55,66, True], False, (34,56,78,89,34), {1,2,3,3,2,1}, {1:34, \"key2\": [55, 67, 78, 89],\n",
    "#  4: (45,  22, 61, 34)}, [56, 'data science'], 'Machine Learning'] \n",
    "# l=[1,2,3,4,[44,55,66,True],False,(34,56,78,89,34),{1,2,3,3,2,1},{1:34,\"key2\":[55,67,78,89],4:(45,22,61,34)},[56,'datascience'],'MachineLearning']\n",
    "# list(map(lambda x: x+x,l))\n",
    "# Note: you must extract numeric keys and values of the dictionary also. \n",
    "import sys\n",
    "# This function takes list,tuple or set and append them in one list one by one element\n",
    "def lts(i):\n",
    "    for k in i:\n",
    "       if type (k) == int :\n",
    "        #    print(k)\n",
    "           num_list.append(k)\n",
    "    \n",
    "# This function takes dictionsry and append them in one list as if keys and values are numeric \n",
    "def dictionary(d):\n",
    "    for key, value in d.items():\n",
    "        if  (type(key) == int) :\n",
    "\n",
    "            num_list.append(key)\n",
    "    \n",
    "           # num_list.append(value)\n",
    "\n",
    "        if type(key)==str or type(key)!=str:\n",
    "            if type (value)== int:\n",
    "                # print(value)\n",
    "                num_list.append(value)\n",
    "\n",
    "            elif type (value)==list:\n",
    "                #  print(value)\n",
    "                 lts(value)\n",
    "\n",
    "            elif type (value)== tuple:  \n",
    "                #    print(value)\n",
    "                   lts(value)\n",
    "\n",
    "            elif type (value) == set:\n",
    "                 lts(value)\n",
    "# This function calculates product \n",
    "def product(num_list):\n",
    "    product=1\n",
    "    for i in num_list:\n",
    "        product*=i\n",
    "    return product\n",
    "                   \n",
    "list1=[1,2,3,4,[44,55,66,True],False,(34,56,78,89,34),{1,2,3,3,2,1},{1:34,\"key2\":[55,67,78,89],\n",
    "    4:(45,22,61,34)},[56,'datascience'],'MachineLearning']\n",
    "num_list = []\n",
    "for i in list1:\n",
    "    if type(i) == int :\n",
    "        num_list.append(i)\n",
    "    elif type(i) == list :\n",
    "        lts(i)\n",
    "    elif type (i)== tuple:\n",
    "        lts(i)   \n",
    "    elif type (i) == set:\n",
    "        lts(i)   \n",
    "    elif type (i) == dict:\n",
    "        dictionary(i)\n",
    "production=product(num_list)\n",
    "print(production)\n",
    "num=sys.getsizeof(production)\n",
    "print(num,\"Bytes\")\n"
   ]
  },
  {
   "cell_type": "code",
   "execution_count": 4,
   "metadata": {},
   "outputs": [
    {
     "data": {
      "text/plain": [
       "'I$Wznt$TO$xeyome$z$Dztz$Syientist'"
      ]
     },
     "execution_count": 4,
     "metadata": {},
     "output_type": "execute_result"
    }
   ],
   "source": [
    "#Q Write a python program for encrypting a message sent to you by your friend. The logic of encryption\n",
    "# should be such that, for a the output should be z. For b, the output should be y. For c, the output should\n",
    "# be x respectively. Also, the whitespace should be replaced with a dollar sign. Keep the punctuation\n",
    "# marks unchanged.\n",
    "# Input Sentence: I want to become a Data Scientist.\n",
    "# Encrypt the above input sentence using the program you just created.\n",
    "# Note: Convert the given input sentence into lowercase before encrypting. The final output should be\n",
    "# lowercase.\n",
    "def Encrypt_message(message):\n",
    "    Encrypted_message=\"\"\n",
    "    for char in message:\n",
    "\n",
    "        if char.isalpha():\n",
    "            if char.lower() == 'a':\n",
    "             Encrypted_message =  Encrypted_message + \"z\"\n",
    "            elif char.lower() == \"b\":\n",
    "              Encrypted_message =  Encrypted_message + \"x\"\n",
    "            elif char.lower() == \"c\":\n",
    "              Encrypted_message =  Encrypted_message + \"y\"\n",
    "            else:\n",
    "               Encrypted_message = Encrypted_message + char\n",
    "        elif char.isspace():\n",
    "           Encrypted_message = Encrypted_message + \"$\"\n",
    "    return Encrypted_message\n",
    "\n",
    "message=\"I Want TO Become a Data Scientist\"\n",
    "Encrypt_message(message)"
   ]
  }
 ],
 "metadata": {
  "kernelspec": {
   "display_name": "Python 3",
   "language": "python",
   "name": "python3"
  },
  "language_info": {
   "codemirror_mode": {
    "name": "ipython",
    "version": 3
   },
   "file_extension": ".py",
   "mimetype": "text/x-python",
   "name": "python",
   "nbconvert_exporter": "python",
   "pygments_lexer": "ipython3",
   "version": "3.12.3"
  }
 },
 "nbformat": 4,
 "nbformat_minor": 2
}
